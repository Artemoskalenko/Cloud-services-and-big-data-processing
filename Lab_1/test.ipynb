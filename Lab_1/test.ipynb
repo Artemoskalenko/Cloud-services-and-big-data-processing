{
 "cells": [
  {
   "cell_type": "code",
   "execution_count": 1,
   "metadata": {},
   "outputs": [
    {
     "name": "stdout",
     "output_type": "stream",
     "text": [
      "\n",
      "False\n",
      "True\n",
      "28\n",
      "1234\n",
      "12345\n",
      "123456789\n"
     ]
    }
   ],
   "source": [
    "from math import sqrt\n",
    "\n",
    "\n",
    "def is_odd_number(num):\n",
    "    if type(num) is int:\n",
    "        return [False, True][num % 2 == 0]\n",
    "    return \"\"\n",
    "\n",
    "\n",
    "def five_prime_numbers():\n",
    "    prime_numbers = []\n",
    "    num = 1\n",
    "    while len(prime_numbers) < 5:\n",
    "        if num > 1:\n",
    "            prime_flag = True\n",
    "            for i in range(2, int(sqrt(num)) + 1):\n",
    "                if num % i == 0:\n",
    "                    prime_flag = False\n",
    "                    break\n",
    "            if prime_flag:\n",
    "                prime_numbers.append(num)\n",
    "        num += 1\n",
    "    return sum(prime_numbers)\n",
    "\n",
    "\n",
    "def sum_of_rows(n: int):\n",
    "    if n <= 1:\n",
    "        return 1\n",
    "    return int(\"1\" * n) + sum_of_rows(n-1)\n",
    "\n",
    "\n",
    "def test():\n",
    "  # is_odd_number test\n",
    "\n",
    "    print(is_odd_number(''))\n",
    "    print(is_odd_number(5))\n",
    "    print(is_odd_number(6))\n",
    "\n",
    "    # five_prime_numbers test\n",
    "\n",
    "    print(five_prime_numbers())\n",
    "\n",
    "    # sum_of_rows test\n",
    "\n",
    "    print(sum_of_rows(4))\n",
    "    print(sum_of_rows(5))\n",
    "    print(sum_of_rows(9))\n",
    "\n",
    "\n",
    "test()"
   ]
  }
 ],
 "metadata": {
  "kernelspec": {
   "display_name": "venv",
   "language": "python",
   "name": "python3"
  },
  "language_info": {
   "codemirror_mode": {
    "name": "ipython",
    "version": 3
   },
   "file_extension": ".py",
   "mimetype": "text/x-python",
   "name": "python",
   "nbconvert_exporter": "python",
   "pygments_lexer": "ipython3",
   "version": "3.10.5"
  },
  "orig_nbformat": 4,
  "vscode": {
   "interpreter": {
    "hash": "449b7ce6ccb8a80089ee3500a6a84092471778882a9b12a7288cc6bdb230ed93"
   }
  }
 },
 "nbformat": 4,
 "nbformat_minor": 2
}
